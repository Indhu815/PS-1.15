{
  "nbformat": 4,
  "nbformat_minor": 0,
  "metadata": {
    "colab": {
      "provenance": []
    },
    "kernelspec": {
      "name": "python3",
      "display_name": "Python 3"
    },
    "language_info": {
      "name": "python"
    }
  },
  "cells": [
    {
      "cell_type": "code",
      "execution_count": 1,
      "metadata": {
        "colab": {
          "base_uri": "https://localhost:8080/"
        },
        "id": "0WiHhsTzwB49",
        "outputId": "75f790cb-70f0-4c2b-e0a5-2cd9e85ca81a"
      },
      "outputs": [
        {
          "output_type": "stream",
          "name": "stdout",
          "text": [
            "Enter a number: 15\n",
            "Sum of multiples of 3 or 5 below 15 is: 45\n"
          ]
        }
      ],
      "source": [
        "def sum_of_multiples(n):\n",
        "    if n < 0:\n",
        "        return 0\n",
        "    return sum(num for num in range(n) if num % 3 == 0 or num % 5 == 0)\n",
        "n = int(input(\"Enter a number: \"))\n",
        "print(\"Sum of multiples of 3 or 5 below\", n, \"is:\", sum_of_multiples(n))\n"
      ]
    },
    {
      "cell_type": "code",
      "source": [
        "def to_camel_case(text):\n",
        "    words = text.replace(\"-\", \"_\").split(\"_\")\n",
        "    return words[0] + \"\".join(word.capitalize() for word in words[1:])\n",
        "print(to_camel_case(\"the-stealth-warrior\"))\n",
        "print(to_camel_case(\"The_Stealth_Warrior\"))\n",
        "print(to_camel_case(\"The_Stealth-Warrior\"))"
      ],
      "metadata": {
        "colab": {
          "base_uri": "https://localhost:8080/"
        },
        "id": "GQ4FjietwWv0",
        "outputId": "4b6fe150-7fae-4a59-9062-47475b9e4290"
      },
      "execution_count": 2,
      "outputs": [
        {
          "output_type": "stream",
          "name": "stdout",
          "text": [
            "theStealthWarrior\n",
            "TheStealthWarrior\n",
            "TheStealthWarrior\n"
          ]
        }
      ]
    },
    {
      "cell_type": "code",
      "source": [
        "def remove_vowels(text):\n",
        "    vowels = \"aeiouAEIOU\"\n",
        "    return \"\".join(char for char in text if char not in vowels)\n",
        "print(remove_vowels(\"This website is for losers LOL!\"))"
      ],
      "metadata": {
        "colab": {
          "base_uri": "https://localhost:8080/"
        },
        "id": "3CpwplNVwbgS",
        "outputId": "7c206c01-c40c-40a5-c578-88fa2192c943"
      },
      "execution_count": 3,
      "outputs": [
        {
          "output_type": "stream",
          "name": "stdout",
          "text": [
            "Ths wbst s fr lsrs LL!\n"
          ]
        }
      ]
    },
    {
      "cell_type": "code",
      "source": [
        "def order_words(sentence):\n",
        "    return \" \".join(sorted(sentence.split(), key=lambda word: sorted(word)))\n",
        "\n",
        "\n",
        "print(order_words(\"is2 Thi1s T4est 3a\"))\n",
        "print(order_words(\"4of Fo1r pe6ople g3ood th5e the2\"))\n",
        "print(order_words(\"\"))"
      ],
      "metadata": {
        "colab": {
          "base_uri": "https://localhost:8080/"
        },
        "id": "UWpMRHNAwgNX",
        "outputId": "a1e8c89d-0f9d-49bb-8762-a9c1c1942860"
      },
      "execution_count": 4,
      "outputs": [
        {
          "output_type": "stream",
          "name": "stdout",
          "text": [
            "Thi1s is2 3a T4est\n",
            "Fo1r the2 g3ood 4of th5e pe6ople\n",
            "\n"
          ]
        }
      ]
    },
    {
      "cell_type": "code",
      "source": [
        "def sort_odd_numbers(arr):\n",
        "    odds = sorted([num for num in arr if num % 2 != 0])\n",
        "    index = 0\n",
        "\n",
        "    for i in range(len(arr)):\n",
        "        if arr[i] % 2 != 0:\n",
        "            arr[i] = odds[index]\n",
        "            index += 1\n",
        "\n",
        "    return arr\n",
        "print(sort_odd_numbers([7, 1]))\n",
        "print(sort_odd_numbers([5, 8, 6, 3, 4]))\n",
        "print(sort_odd_numbers([9, 8, 7, 6, 5, 4, 3, 2, 1, 0]))"
      ],
      "metadata": {
        "colab": {
          "base_uri": "https://localhost:8080/"
        },
        "id": "9lhu-SdxwmL0",
        "outputId": "8423585b-0af4-4604-b9d6-a52da63521ee"
      },
      "execution_count": 5,
      "outputs": [
        {
          "output_type": "stream",
          "name": "stdout",
          "text": [
            "[1, 7]\n",
            "[3, 8, 6, 5, 4]\n",
            "[1, 8, 3, 6, 5, 4, 7, 2, 9, 0]\n"
          ]
        }
      ]
    }
  ]
}